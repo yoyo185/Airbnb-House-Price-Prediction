{
 "cells": [
  {
   "cell_type": "code",
   "execution_count": 18,
   "metadata": {},
   "outputs": [],
   "source": [
    "import pandas as pd\n",
    "import matplotlib.pyplot as plt\n",
    "import warnings\n",
    "from scipy import stats\n",
    "import seaborn as sns\n",
    "warnings.filterwarnings('ignore')\n",
    "df = pd.read_csv('train.csv')\n",
    "df1 = df[df['city']=='LA']\n",
    "zipcodedf = pd.read_csv('ZIP_Codes_and_Postal_Cities.csv')"
   ]
  },
  {
   "cell_type": "code",
   "execution_count": 2,
   "metadata": {},
   "outputs": [
    {
     "name": "stdout",
     "output_type": "stream",
     "text": [
      "<class 'pandas.core.frame.DataFrame'>\n",
      "Int64Index: 22453 entries, 6 to 74110\n",
      "Data columns (total 29 columns):\n",
      "id                        22453 non-null int64\n",
      "log_price                 22453 non-null float64\n",
      "property_type             22453 non-null object\n",
      "room_type                 22453 non-null object\n",
      "amenities                 22453 non-null object\n",
      "accommodates              22453 non-null int64\n",
      "bathrooms                 22387 non-null float64\n",
      "bed_type                  22453 non-null object\n",
      "cancellation_policy       22453 non-null object\n",
      "cleaning_fee              22453 non-null bool\n",
      "city                      22453 non-null object\n",
      "description               22453 non-null object\n",
      "first_review              17401 non-null object\n",
      "host_has_profile_pic      22444 non-null object\n",
      "host_identity_verified    22444 non-null object\n",
      "host_response_rate        18410 non-null object\n",
      "host_since                22444 non-null object\n",
      "instant_bookable          22453 non-null object\n",
      "last_review               17412 non-null object\n",
      "latitude                  22453 non-null float64\n",
      "longitude                 22453 non-null float64\n",
      "name                      22453 non-null object\n",
      "neighbourhood             17047 non-null object\n",
      "number_of_reviews         22453 non-null int64\n",
      "review_scores_rating      17186 non-null float64\n",
      "thumbnail_url             19054 non-null object\n",
      "zipcode                   22158 non-null object\n",
      "bedrooms                  22426 non-null float64\n",
      "beds                      22411 non-null float64\n",
      "dtypes: bool(1), float64(7), int64(3), object(18)\n",
      "memory usage: 5.0+ MB\n"
     ]
    }
   ],
   "source": [
    "#determine the number of missing entries in each column\n",
    "df1.info()"
   ]
  },
  {
   "cell_type": "markdown",
   "metadata": {},
   "source": [
    "## Data Cleaning \n",
    "##1. drop columns with a large of missing values\n",
    "##2. We drop rows is 0"
   ]
  },
  {
   "cell_type": "code",
   "execution_count": 3,
   "metadata": {},
   "outputs": [
    {
     "data": {
      "text/plain": [
       "1886"
      ]
     },
     "execution_count": 3,
     "metadata": {},
     "output_type": "execute_result"
    }
   ],
   "source": [
    "#deal with host response rate and fill 0 with no response rate\n",
    "df1.loc[(df1['number_of_reviews']== 0) & (df1['host_response_rate'].isna()),'host_response_rate'] = 'No Respose Rate' \n",
    "df1['host_response_rate'].isna().sum()"
   ]
  },
  {
   "cell_type": "code",
   "execution_count": 4,
   "metadata": {},
   "outputs": [
    {
     "data": {
      "text/plain": [
       "226"
      ]
     },
     "execution_count": 4,
     "metadata": {},
     "output_type": "execute_result"
    }
   ],
   "source": [
    "#deal with review score rating and fill 0 with no review\n",
    "df1.loc[(df1['number_of_reviews']== 0) & (df1['review_scores_rating'].isna()),'review_scores_rating'] = 'No Review' \n",
    "df1['review_scores_rating'].isna().sum()"
   ]
  },
  {
   "cell_type": "code",
   "execution_count": 5,
   "metadata": {},
   "outputs": [
    {
     "data": {
      "text/plain": [
       "id                           0\n",
       "log_price                    0\n",
       "property_type                0\n",
       "room_type                    0\n",
       "amenities                    0\n",
       "accommodates                 0\n",
       "bathrooms                   66\n",
       "bed_type                     0\n",
       "cancellation_policy          0\n",
       "cleaning_fee                 0\n",
       "city                         0\n",
       "description                  0\n",
       "host_has_profile_pic         9\n",
       "host_identity_verified       9\n",
       "host_response_rate        1886\n",
       "host_since                   9\n",
       "instant_bookable             0\n",
       "latitude                     0\n",
       "longitude                    0\n",
       "name                         0\n",
       "number_of_reviews            0\n",
       "review_scores_rating       226\n",
       "zipcode                    295\n",
       "bedrooms                    27\n",
       "beds                        42\n",
       "Neighbour                  313\n",
       "dtype: int64"
      ]
     },
     "execution_count": 5,
     "metadata": {},
     "output_type": "execute_result"
    }
   ],
   "source": [
    "dfzip = zipcodedf[['ZIP Code','Postal City 1']]\n",
    "dfzip['ZIP Code'] = dfzip['ZIP Code'].astype(str)\n",
    "df2 = df1.merge(dfzip,left_on = 'zipcode', right_on = 'ZIP Code',how = 'left')\n",
    "df2 = df2.drop(['ZIP Code','neighbourhood'], axis =1)\n",
    "df2 = df2.rename(columns={'Postal City 1':'Neighbour'})\n",
    "#delete columns that we did not need\n",
    "df2 = df2.drop(['first_review','last_review','thumbnail_url'],axis = 1)\n",
    "df2.isna().sum()"
   ]
  },
  {
   "cell_type": "code",
   "execution_count": 6,
   "metadata": {},
   "outputs": [],
   "source": [
    "df2 = df2.dropna()"
   ]
  },
  {
   "cell_type": "code",
   "execution_count": 7,
   "metadata": {},
   "outputs": [
    {
     "name": "stdout",
     "output_type": "stream",
     "text": [
      "9            8991\n",
      "No Review    4948\n",
      "10           3878\n",
      "8            1870\n",
      "7             244\n",
      "6             120\n",
      "5              20\n",
      "Name: review_scores_rating, dtype: int64\n"
     ]
    }
   ],
   "source": [
    "df2['review_scores_rating'] = pd.to_numeric(df2['review_scores_rating'],errors = 'coerce')\n",
    "def convert_scores_buckets(val):\n",
    "    if val == 100.0:\n",
    "        return '10'\n",
    "    elif val >= 90.0:\n",
    "        return '9'\n",
    "    elif val >= 80.0:\n",
    "        return '8'\n",
    "    elif val >= 70.0:\n",
    "        return '7'\n",
    "    elif val >= 60.0:\n",
    "        return '6'\n",
    "    elif val >= 50.0:\n",
    "        return '5'\n",
    "    else:\n",
    "        return 'No Review'\n",
    "df2['review_scores_rating'] = df2['review_scores_rating'].apply(convert_scores_buckets)\n",
    "print(df2['review_scores_rating'].value_counts())"
   ]
  },
  {
   "cell_type": "code",
   "execution_count": 8,
   "metadata": {},
   "outputs": [
    {
     "name": "stdout",
     "output_type": "stream",
     "text": [
      "Actively Response    13667\n",
      "Have Response         6404\n",
      "Name: host_response_rate, dtype: int64\n"
     ]
    }
   ],
   "source": [
    "def response_score_rating(val):\n",
    "    if val == '100%':\n",
    "        return 'Actively Response'\n",
    "    elif val == 'No Response Rate':\n",
    "        return 'No Response'\n",
    "    else:\n",
    "        return 'Have Response'\n",
    "df2['host_response_rate'] = df2['host_response_rate'].apply(response_score_rating)\n",
    "print(df2['host_response_rate'].value_counts())"
   ]
  },
  {
   "cell_type": "code",
   "execution_count": 9,
   "metadata": {},
   "outputs": [
    {
     "name": "stdout",
     "output_type": "stream",
     "text": [
      "<class 'pandas.core.frame.DataFrame'>\n",
      "Int64Index: 20071 entries, 0 to 22452\n",
      "Data columns (total 26 columns):\n",
      "id                        20071 non-null int64\n",
      "log_price                 20071 non-null float64\n",
      "property_type             20071 non-null object\n",
      "room_type                 20071 non-null object\n",
      "amenities                 20071 non-null object\n",
      "accommodates              20071 non-null int64\n",
      "bathrooms                 20071 non-null float64\n",
      "bed_type                  20071 non-null object\n",
      "cancellation_policy       20071 non-null object\n",
      "cleaning_fee              20071 non-null bool\n",
      "city                      20071 non-null object\n",
      "description               20071 non-null object\n",
      "host_has_profile_pic      20071 non-null object\n",
      "host_identity_verified    20071 non-null object\n",
      "host_response_rate        20071 non-null object\n",
      "host_since                20071 non-null object\n",
      "instant_bookable          20071 non-null object\n",
      "latitude                  20071 non-null float64\n",
      "longitude                 20071 non-null float64\n",
      "name                      20071 non-null object\n",
      "number_of_reviews         20071 non-null int64\n",
      "review_scores_rating      20071 non-null object\n",
      "zipcode                   20071 non-null object\n",
      "bedrooms                  20071 non-null float64\n",
      "beds                      20071 non-null float64\n",
      "Neighbour                 20071 non-null object\n",
      "dtypes: bool(1), float64(6), int64(3), object(16)\n",
      "memory usage: 4.0+ MB\n"
     ]
    }
   ],
   "source": [
    "df2.info()"
   ]
  },
  {
   "cell_type": "markdown",
   "metadata": {},
   "source": [
    "## Numerical numbers distribution"
   ]
  },
  {
   "cell_type": "code",
   "execution_count": 19,
   "metadata": {},
   "outputs": [
    {
     "data": {
      "image/png": "[encoded data removed]",
      "text/plain": [
       "<Figure size 576x288 with 1 Axes>"
      ]
     },
     "metadata": {},
     "output_type": "display_data"
    }
   ],
   "source": [
    "plt.figure(figsize = (8,4))\n",
    "sns.countplot(df2['bathrooms'])\n",
    "plt.xlabel('bathrooms',fontsize = 12)\n",
    "plt.ylabel('Number of occurrences',fontsize = 12)\n",
    "plt.show()"
   ]
  },
  {
   "cell_type": "code",
   "execution_count": 10,
   "metadata": {},
   "outputs": [
    {
     "data": {
      "text/plain": [
       "2     8089\n",
       "4     3238\n",
       "1     2269\n",
       "3     2016\n",
       "6     1647\n",
       "5     1012\n",
       "8      679\n",
       "7      339\n",
       "10     300\n",
       "16     157\n",
       "12     111\n",
       "9      101\n",
       "14      50\n",
       "11      31\n",
       "15      20\n",
       "13      12\n",
       "Name: accommodates, dtype: int64"
      ]
     },
     "execution_count": 10,
     "metadata": {},
     "output_type": "execute_result"
    }
   ],
   "source": [
    "#analyze the number of accommodates\n",
    "df2['accommodates'].value_counts()"
   ]
  },
  {
   "cell_type": "code",
   "execution_count": 11,
   "metadata": {},
   "outputs": [
    {
     "data": {
      "image/png": "[encoded data removed]",
      "text/plain": [
       "<Figure size 432x288 with 1 Axes>"
      ]
     },
     "metadata": {},
     "output_type": "display_data"
    }
   ],
   "source": [
    "#visualize the number of accommodates\n",
    "plt.hist(df2['accommodates'],bins = 50)\n",
    "plt.title('Histogram of Accommodations')\n",
    "plt.xlabel('Number of Accommodations')\n",
    "plt.ylabel('Frequency')\n",
    "plt.show()"
   ]
  },
  {
   "cell_type": "markdown",
   "metadata": {},
   "source": [
    "We see that a majority of listing have accommodations for 1-4 people, 1 bed typically accommodates 2 individuals, so let's plot the bed instead of analyze how many of the listing are single bedroom listings."
   ]
  },
  {
   "cell_type": "code",
   "execution_count": 12,
   "metadata": {},
   "outputs": [
    {
     "data": {
      "text/plain": [
       "1.0     11321\n",
       "2.0      4504\n",
       "3.0      2069\n",
       "4.0      1103\n",
       "5.0       479\n",
       "6.0       267\n",
       "8.0        98\n",
       "7.0        91\n",
       "10.0       52\n",
       "9.0        31\n",
       "16.0       26\n",
       "12.0       14\n",
       "11.0        9\n",
       "14.0        3\n",
       "15.0        2\n",
       "13.0        2\n",
       "Name: beds, dtype: int64"
      ]
     },
     "execution_count": 12,
     "metadata": {},
     "output_type": "execute_result"
    }
   ],
   "source": [
    "df2['beds'].value_counts()"
   ]
  },
  {
   "cell_type": "code",
   "execution_count": 13,
   "metadata": {},
   "outputs": [
    {
     "data": {
      "image/png": "[encoded data removed]",
      "text/plain": [
       "<Figure size 432x288 with 1 Axes>"
      ]
     },
     "metadata": {},
     "output_type": "display_data"
    }
   ],
   "source": [
    "plt.hist(df2['beds'],bins = 50)\n",
    "plt.title('Histogram of Beds')\n",
    "plt.xlabel('Bed Count')\n",
    "plt.ylabel('Frequency')\n",
    "plt.show()"
   ]
  },
  {
   "cell_type": "code",
   "execution_count": 14,
   "metadata": {},
   "outputs": [
    {
     "data": {
      "image/png": "[encoded data removed]",
      "text/plain": [
       "<Figure size 432x288 with 1 Axes>"
      ]
     },
     "metadata": {},
     "output_type": "display_data"
    }
   ],
   "source": [
    "#visualize the distribution of price(target variable)\n",
    "plt.hist(df2['log_price'],bins =30)\n",
    "plt.title(\"Histogram of Pricing Log-Transform\")\n",
    "plt.xlabel(\"pricing (USD) per day\")\n",
    "plt.ylabel(\"Frequency\")\n",
    "plt.show()"
   ]
  },
  {
   "cell_type": "code",
   "execution_count": 15,
   "metadata": {},
   "outputs": [
    {
     "data": {
      "image/png": "[encoded data removed]",
      "text/plain": [
       "<Figure size 432x288 with 1 Axes>"
      ]
     },
     "metadata": {},
     "output_type": "display_data"
    }
   ],
   "source": [
    "##qq plot for log-transform pricing\n",
    "stats.probplot(df['log_price'],dist = \"norm\", plot = plt)\n",
    "plt.show()"
   ]
  },
  {
   "cell_type": "markdown",
   "metadata": {},
   "source": [
    "We see that after transformation, the distribution for price resembles that of a normal distribution. We see from the Q-Q plots that log-transforming the response variable yields a distribution that more closely resembles that of a normal distribution. This normality validation is important in order to fit the assumptions of linear regression models"
   ]
  },
  {
   "cell_type": "code",
   "execution_count": 16,
   "metadata": {},
   "outputs": [],
   "source": [
    "df2.to_csv(\"CA.csv\",index = False)"
   ]
  },
  {
   "cell_type": "code",
   "execution_count": null,
   "metadata": {},
   "outputs": [],
   "source": []
  }
 ],
 "metadata": {
  "kernelspec": {
   "display_name": "Python 3",
   "language": "python",
   "name": "python3"
  },
  "language_info": {
   "codemirror_mode": {
    "name": "ipython",
    "version": 3
   },
   "file_extension": ".py",
   "mimetype": "text/x-python",
   "name": "python",
   "nbconvert_exporter": "python",
   "pygments_lexer": "ipython3",
   "version": "3.6.7"
  }
 },
 "nbformat": 4,
 "nbformat_minor": 2
}
